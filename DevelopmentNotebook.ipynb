{
  "nbformat": 4,
  "nbformat_minor": 0,
  "metadata": {
    "colab": {
      "name": "Transformer Stocks BTC.ipynb",
      "provenance": [],
      "collapsed_sections": []
    },
    "kernelspec": {
      "name": "python3",
      "display_name": "Python 3"
    },
    "accelerator": "GPU"
  },
  "cells": [
    {
      "cell_type": "code",
      "metadata": {
        "colab": {
          "base_uri": "https://localhost:8080/"
        },
        "id": "gPW_6ST_wup_",
        "outputId": "49aac835-1e18-4eea-dd71-90cee858a717"
      },
      "source": [
        "!pip install yfinance -q"
      ],
      "execution_count": 2,
      "outputs": [
        {
          "output_type": "stream",
          "text": [
            "\u001b[K     |████████████████████████████████| 5.5MB 13.5MB/s \n",
            "\u001b[?25h  Building wheel for yfinance (setup.py) ... \u001b[?25l\u001b[?25hdone\n"
          ],
          "name": "stdout"
        }
      ]
    },
    {
      "cell_type": "code",
      "metadata": {
        "colab": {
          "base_uri": "https://localhost:8080/",
          "height": 35
        },
        "id": "BXnKgWBiw05z",
        "outputId": "963bf755-0a47-4c09-cf36-2548918850a7"
      },
      "source": [
        "import numpy as np\n",
        "import pandas as pd\n",
        "import yfinance as yf\n",
        "import matplotlib.pyplot as plt\n",
        "import tensorflow as tf\n",
        "from tensorflow.keras.models import *\n",
        "from tensorflow.keras.layers import *\n",
        "tf.test.gpu_device_name()"
      ],
      "execution_count": 3,
      "outputs": [
        {
          "output_type": "execute_result",
          "data": {
            "application/vnd.google.colaboratory.intrinsic+json": {
              "type": "string"
            },
            "text/plain": [
              "'/device:GPU:0'"
            ]
          },
          "metadata": {
            "tags": []
          },
          "execution_count": 3
        }
      ]
    },
    {
      "cell_type": "code",
      "metadata": {
        "colab": {
          "base_uri": "https://localhost:8080/",
          "height": 787
        },
        "id": "43aOeEYlv4uS",
        "outputId": "c27062c4-5278-49c7-b53e-63413ab7245c"
      },
      "source": [
        "# Load Data\n",
        "d = pd.DataFrame(yf.download(\"BTC-USD\", start=\"2000-1-1\", end=\"2021-1-10\"))\n",
        "d[\"Adj Close\"].plot();\n",
        "plt.show()\n",
        "d[\"Volume\"].plot();\n",
        "d.head()"
      ],
      "execution_count": 4,
      "outputs": [
        {
          "output_type": "stream",
          "text": [
            "\r[*********************100%***********************]  1 of 1 completed\n"
          ],
          "name": "stdout"
        },
        {
          "output_type": "display_data",
          "data": {
            "image/png": "[encoded data removed]",
            "text/plain": [
              "<Figure size 432x288 with 1 Axes>"
            ]
          },
          "metadata": {
            "tags": [],
            "needs_background": "light"
          }
        },
        {
          "output_type": "execute_result",
          "data": {
            "text/html": [
              "<div>\n",
              "<style scoped>\n",
              "    .dataframe tbody tr th:only-of-type {\n",
              "        vertical-align: middle;\n",
              "    }\n",
              "\n",
              "    .dataframe tbody tr th {\n",
              "        vertical-align: top;\n",
              "    }\n",
              "\n",
              "    .dataframe thead th {\n",
              "        text-align: right;\n",
              "    }\n",
              "</style>\n",
              "<table border=\"1\" class=\"dataframe\">\n",
              "  <thead>\n",
              "    <tr style=\"text-align: right;\">\n",
              "      <th></th>\n",
              "      <th>Open</th>\n",
              "      <th>High</th>\n",
              "      <th>Low</th>\n",
              "      <th>Close</th>\n",
              "      <th>Adj Close</th>\n",
              "      <th>Volume</th>\n",
              "    </tr>\n",
              "    <tr>\n",
              "      <th>Date</th>\n",
              "      <th></th>\n",
              "      <th></th>\n",
              "      <th></th>\n",
              "      <th></th>\n",
              "      <th></th>\n",
              "      <th></th>\n",
              "    </tr>\n",
              "  </thead>\n",
              "  <tbody>\n",
              "    <tr>\n",
              "      <th>2014-09-17</th>\n",
              "      <td>465.864014</td>\n",
              "      <td>468.174011</td>\n",
              "      <td>452.421997</td>\n",
              "      <td>457.334015</td>\n",
              "      <td>457.334015</td>\n",
              "      <td>21056800</td>\n",
              "    </tr>\n",
              "    <tr>\n",
              "      <th>2014-09-18</th>\n",
              "      <td>456.859985</td>\n",
              "      <td>456.859985</td>\n",
              "      <td>413.104004</td>\n",
              "      <td>424.440002</td>\n",
              "      <td>424.440002</td>\n",
              "      <td>34483200</td>\n",
              "    </tr>\n",
              "    <tr>\n",
              "      <th>2014-09-19</th>\n",
              "      <td>424.102997</td>\n",
              "      <td>427.834991</td>\n",
              "      <td>384.532013</td>\n",
              "      <td>394.795990</td>\n",
              "      <td>394.795990</td>\n",
              "      <td>37919700</td>\n",
              "    </tr>\n",
              "    <tr>\n",
              "      <th>2014-09-20</th>\n",
              "      <td>394.673004</td>\n",
              "      <td>423.295990</td>\n",
              "      <td>389.882996</td>\n",
              "      <td>408.903992</td>\n",
              "      <td>408.903992</td>\n",
              "      <td>36863600</td>\n",
              "    </tr>\n",
              "    <tr>\n",
              "      <th>2014-09-21</th>\n",
              "      <td>408.084991</td>\n",
              "      <td>412.425995</td>\n",
              "      <td>393.181000</td>\n",
              "      <td>398.821014</td>\n",
              "      <td>398.821014</td>\n",
              "      <td>26580100</td>\n",
              "    </tr>\n",
              "  </tbody>\n",
              "</table>\n",
              "</div>"
            ],
            "text/plain": [
              "                  Open        High  ...   Adj Close    Volume\n",
              "Date                                ...                      \n",
              "2014-09-17  465.864014  468.174011  ...  457.334015  21056800\n",
              "2014-09-18  456.859985  456.859985  ...  424.440002  34483200\n",
              "2014-09-19  424.102997  427.834991  ...  394.795990  37919700\n",
              "2014-09-20  394.673004  423.295990  ...  408.903992  36863600\n",
              "2014-09-21  408.084991  412.425995  ...  398.821014  26580100\n",
              "\n",
              "[5 rows x 6 columns]"
            ]
          },
          "metadata": {
            "tags": []
          },
          "execution_count": 4
        },
        {
          "output_type": "display_data",
          "data": {
            "image/png": "[encoded data removed]",
            "text/plain": [
              "<Figure size 432x288 with 1 Axes>"
            ]
          },
          "metadata": {
            "tags": [],
            "needs_background": "light"
          }
        }
      ]
    },
    {
      "cell_type": "code",
      "metadata": {
        "colab": {
          "base_uri": "https://localhost:8080/",
          "height": 541
        },
        "id": "tE6b_YbJxR6y",
        "outputId": "9fc4eb40-3260-450f-c0ab-fe4eecafd354"
      },
      "source": [
        "#get returns\n",
        "df = d.pct_change().dropna()\n",
        "df[\"Close\"].plot();\n",
        "plt.show()\n",
        "df[\"Volume\"].plot();"
      ],
      "execution_count": 5,
      "outputs": [
        {
          "output_type": "display_data",
          "data": {
            "image/png": "[encoded data removed]",
            "text/plain": [
              "<Figure size 432x288 with 1 Axes>"
            ]
          },
          "metadata": {
            "tags": [],
            "needs_background": "light"
          }
        },
        {
          "output_type": "display_data",
          "data": {
            "image/png": "[encoded data removed]",
            "text/plain": [
              "<Figure size 432x288 with 1 Axes>"
            ]
          },
          "metadata": {
            "tags": [],
            "needs_background": "light"
          }
        }
      ]
    },
    {
      "cell_type": "code",
      "metadata": {
        "colab": {
          "base_uri": "https://localhost:8080/",
          "height": 279
        },
        "id": "8U6hBm0R0-4b",
        "outputId": "0980fa8d-481d-4496-989f-ea9f8b94d89b"
      },
      "source": [
        "#normalize\n",
        "retmin = min(df[[\"Open\", \"High\", \"Low\", \"Close\"]].min())\n",
        "retmax = max(df[[\"Open\", \"High\", \"Low\", \"Close\"]].max())\n",
        "norm = retmax - retmin\n",
        "dfn = df.copy()\n",
        "\n",
        "for c in df:\n",
        "    if c != \"Volume\":\n",
        "        dfn[c] = (df[c]-retmin)/norm\n",
        "    else:  \n",
        "        dfn[c] = (df[c]-df[c].min())/(df[c].max()-df[c].min())\n",
        "    # print(dfn[c].shape)\n",
        "\n",
        "dfn[\"Close\"].plot();"
      ],
      "execution_count": 6,
      "outputs": [
        {
          "output_type": "display_data",
          "data": {
            "image/png": "[encoded data removed]",
            "text/plain": [
              "<Figure size 432x288 with 1 Axes>"
            ]
          },
          "metadata": {
            "tags": [],
            "needs_background": "light"
          }
        }
      ]
    },
    {
      "cell_type": "code",
      "metadata": {
        "colab": {
          "base_uri": "https://localhost:8080/",
          "height": 282
        },
        "id": "JUvJThEfya-h",
        "outputId": "45ecaa14-32a0-45f0-dcc2-46d62e49945a"
      },
      "source": [
        "# split 60/20/10\n",
        "dfn.reset_index(drop=True, inplace=True)\n",
        "train, validate, test = np.split(dfn, [int(.6*len(dfn)), int(.8*len(dfn))])\n",
        "plt.plot(train[\"Close\"])\n",
        "plt.plot(test[\"Close\"])\n",
        "plt.plot(validate[\"Close\"])"
      ],
      "execution_count": 7,
      "outputs": [
        {
          "output_type": "execute_result",
          "data": {
            "text/plain": [
              "[<matplotlib.lines.Line2D at 0x7fd77baf3208>]"
            ]
          },
          "metadata": {
            "tags": []
          },
          "execution_count": 7
        },
        {
          "output_type": "display_data",
          "data": {
            "image/png": "[encoded data removed]",
            "text/plain": [
              "<Figure size 432x288 with 1 Axes>"
            ]
          },
          "metadata": {
            "tags": [],
            "needs_background": "light"
          }
        }
      ]
    },
    {
      "cell_type": "code",
      "metadata": {
        "colab": {
          "base_uri": "https://localhost:8080/"
        },
        "id": "PFnHP3OJ0c8G",
        "outputId": "4d8801dd-ce6f-47f6-c889-87830069e895"
      },
      "source": [
        "import numpy as np\n",
        "import pandas as pd\n",
        "import yfinance as yf\n",
        "seq_len=128\n",
        "\n",
        "def Splitter(seq_len, data):\n",
        "  X_data, Y_data = [], []\n",
        "  for i in range(seq_len, len(data)):\n",
        "    X_data.append(data[i-seq_len:i]) #Chunks of 128 len\n",
        "    Y_data.append(data[:, 3][i])\n",
        "  return(np.array(X_data), np.array(Y_data))\n",
        "\n",
        "\n",
        "\n",
        "def PrepData(ticker, seq_len):\n",
        "  ''' \n",
        "  Downloads and normalizes (minmax) ticker\n",
        "  60/20/20 split\n",
        "  2000-1-1 start\n",
        "  '''\n",
        "\n",
        "  # Load Data\n",
        "  d = pd.DataFrame(yf.download(ticker, start=\"2000-1-1\", end=\"2021-1-10\"))\n",
        "  \n",
        "  # Use Adj. Close\n",
        "  d[\"Close\"] = d[\"Adj Close\"]\n",
        "  d.drop(columns=[\"Adj Close\"], inplace=True)\n",
        "  d.dropna()\n",
        "  df = d.pct_change().dropna()\n",
        "\n",
        "  #normalize\n",
        "  retmin = min(df[[\"Open\", \"High\", \"Low\", \"Close\"]].min())\n",
        "  retmax = max(df[[\"Open\", \"High\", \"Low\", \"Close\"]].max())\n",
        "  norm = retmax - retmin\n",
        "  dfn = df.copy()\n",
        "\n",
        "  for c in df:\n",
        "      if c != \"Volume\":\n",
        "          dfn[c] = (df[c]-retmin)/norm\n",
        "      else:  \n",
        "          dfn[c] = (df[c]-df[c].min())/(df[c].max()-df[c].min())\n",
        "\n",
        "  dfn.reset_index(drop=True, inplace=True)\n",
        "  train, valid, test = (np.split(dfn, [int(.6*len(dfn)), int(.8*len(dfn))]))\n",
        "  \n",
        "  X_train, Y_train = Splitter(seq_len, train.values)\n",
        "  X_val, Y_val = Splitter(seq_len, valid.values)\n",
        "  X_test, Y_test = Splitter(seq_len, test.values)\n",
        "\n",
        "  return (X_train, Y_train, X_val, Y_val, X_test, Y_test)\n",
        "\n",
        "# data\n",
        "X_train, Y_train, X_val, Y_val, X_test, Y_test = PrepData(\"BTC-USD\", seq_len)"
      ],
      "execution_count": 9,
      "outputs": [
        {
          "output_type": "stream",
          "text": [
            "\r[*********************100%***********************]  1 of 1 completed\n"
          ],
          "name": "stdout"
        }
      ]
    },
    {
      "cell_type": "markdown",
      "metadata": {
        "id": "Whto0SCbSzmV"
      },
      "source": [
        "## Time2Vec\n",
        "![](https://miro.medium.com/max/1400/1*tfLhh5cvSReS4Nejy3nIUg.png)\n"
      ]
    },
    {
      "cell_type": "code",
      "metadata": {
        "id": "dYYhXZ5QSote"
      },
      "source": [
        "class Time2Vector(Layer):\n",
        "  def __init__(self, seq_len, **kwargs):\n",
        "    super(Time2Vector, self).__init__()\n",
        "    self.seq_len = seq_len\n",
        "\n",
        "  def build(self, input_shape):\n",
        "    ''' init weights and biases with shape (batch, seq_len) '''\n",
        "    self.weights_linear = self.add_weight(name=\"weight_linear\",\n",
        "                                          shape=(int(self.seq_len),),\n",
        "                                          initializer=\"uniform\",\n",
        "                                          trainable=True)\n",
        "    \n",
        "    self.bias_linear = self.add_weight(name=\"bias_linear\",\n",
        "                                          shape=(int(self.seq_len),),\n",
        "                                          initializer=\"uniform\",\n",
        "                                          trainable=True)\n",
        " \n",
        "    self.weights_periodic = self.add_weight(name=\"weight_periodic\",\n",
        "                                          shape=(int(self.seq_len),),\n",
        "                                          initializer=\"uniform\",\n",
        "                                          trainable=True)\n",
        "    \n",
        "    self.bias_periodic = self.add_weight(name=\"bias_periodic\",\n",
        "                                          shape=(int(self.seq_len),),\n",
        "                                          initializer=\"uniform\",\n",
        "                                          trainable=True)\n",
        " \n",
        "\n",
        "  def call(self, x):\n",
        "    ''' calculate linear and periodic time features '''\n",
        "    x = tf.math.reduce_mean(x[:,:,:4], axis=-1)\n",
        "    time_linear = self.weights_linear * x *self.bias_linear\n",
        "    time_linear = tf.expand_dims(time_linear, axis=-1)\n",
        "    \n",
        "    time_periodic = tf.math.sin(tf.multiply(x, self.weights_periodic) + self.bias_periodic)\n",
        "    time_periodic = tf.expand_dims(time_periodic, axis=-1)    \n",
        "    return tf.concat([time_linear, time_periodic], axis=-1)\n",
        "\n",
        "\n",
        "  def get_config(self):\n",
        "    config = super().get_config().copy()\n",
        "    config.update({'seq_len': self.seq_len})\n",
        "    return config\n",
        "\n"
      ],
      "execution_count": 10,
      "outputs": []
    },
    {
      "cell_type": "markdown",
      "metadata": {
        "id": "A8grzNyudWM9"
      },
      "source": [
        "## Transformer"
      ]
    },
    {
      "cell_type": "code",
      "metadata": {
        "id": "w1xRr0XYXZiB"
      },
      "source": [
        "class SingleAttention(Layer):\n",
        "  def __init__(self, d_k, d_v):\n",
        "    super(SingleAttention, self).__init__()\n",
        "    self.d_k = d_k\n",
        "    self.d_v = d_v\n",
        "\n",
        "\n",
        "  def build(self, input_shape):\n",
        "    self.query = Dense(self.d_k,\n",
        "                       input_shape=input_shape,\n",
        "                       kernel_initializer=\"glorot_uniform\",\n",
        "                       bias_initializer=\"glorot_uniform\")\n",
        "\n",
        "    self.key = Dense(self.d_k,\n",
        "                       input_shape=input_shape,\n",
        "                       kernel_initializer=\"glorot_uniform\",\n",
        "                       bias_initializer=\"glorot_uniform\")\n",
        "\n",
        "    self.value = Dense(self.d_v,\n",
        "                       input_shape=input_shape,\n",
        "                       kernel_initializer=\"glorot_uniform\",\n",
        "                       bias_initializer=\"glorot_uniform\")\n",
        "\n",
        "    \n",
        "  def call(self, inputs):\n",
        "    q = self.query(inputs[0])\n",
        "    k = self.key(inputs[0])\n",
        "\n",
        "    attn_weights = tf.matmul(q, k, transpose_b=True)\n",
        "    attn_weights = tf.map_fn(lambda x: x/np.sqrt(self.d_k), attn_weights)\n",
        "    attn_weights = tf.nn.softmax(attn_weights, axis=-1)\n",
        "\n",
        "    v = self.value(inputs[2])\n",
        "    attn_out = tf.matmul(attn_weights, v)\n",
        "    return attn_out\n",
        "\n",
        "\n",
        "\n",
        "\n",
        "class MultiAttention(Layer):\n",
        "  def __init__(self, d_k, d_v, n_heads):\n",
        "    super(MultiAttention, self).__init__()\n",
        "    self.d_k = d_k\n",
        "    self.d_v = d_v\n",
        "    self.n_heads = n_heads\n",
        "    self.attn_heads = list()\n",
        "\n",
        "\n",
        "  def build(self, input_shape):\n",
        "    for n in range(self.n_heads):\n",
        "      self.attn_heads.append(SingleAttention(self.d_k, self.d_v))\n",
        "\n",
        "    self.linear = Dense(input_shape[0][-1],\n",
        "                        input_shape=input_shape,\n",
        "                        kernel_initializer='glorot_uniform',\n",
        "                        bias_initializer='glorot_uniform')\n",
        "                        \n",
        "\n",
        "  def call(self, inputs):\n",
        "    attn = [self.attn_heads[i](inputs) for i in range(self.n_heads)]\n",
        "    concat_attn = tf.concat(attn, axis=-1)\n",
        "    multi_linear = self.linear(concat_attn)\n",
        "    return multi_linear\n",
        "\n",
        "\n",
        "\n",
        "\n",
        "class TransformerEncoder(Layer):\n",
        "  def __init__(self, d_k, d_v, n_heads, ff_dim, dropout=0.1, **kwargs):\n",
        "    super(TransformerEncoder, self).__init__()\n",
        "    self.d_k = d_k\n",
        "    self.d_v = d_v\n",
        "    self.n_heads = n_heads\n",
        "    self.attn_heads = list()\n",
        "    self.ff_dim = ff_dim\n",
        "    self.dropout_rate = dropout\n",
        "\n",
        "\n",
        "  def build(self, input_shape):\n",
        "    self.attn_multi = MultiAttention(self.d_k, self.d_v, self.n_heads)\n",
        "    self.attn_dropout = Dropout(self.dropout_rate)\n",
        "    self.attn_normalize = LayerNormalization(input_shape=input_shape, epsilon=1e-6)\n",
        "\n",
        "    self.ff_conv1D_1 = Conv1D(filters=self.ff_dim, kernel_size=1, activation=\"relu\")\n",
        "    self.ff_conv1D_2 = Conv1D(filters=input_shape[0][-1], kernel_size=1)\n",
        "    self.ff_dropout = Dropout(self.dropout_rate)\n",
        "    self.ff_normalize = LayerNormalization(input_shape=input_shape, epsilon=1e-6)\n",
        "\n",
        "\n",
        "  def call(self, inputs):\n",
        "    attn_layer = self.attn_multi(inputs)\n",
        "    attn_layer = self.attn_dropout(attn_layer)\n",
        "    attn_layer = self.attn_normalize(inputs[0] + attn_layer)\n",
        "\n",
        "    ff_layer = self.ff_conv1D_1(attn_layer)\n",
        "    ff_layer = self.ff_conv1D_2(ff_layer)\n",
        "    ff_layer = self.ff_dropout(ff_layer)\n",
        "    ff_layer = self.ff_normalize(inputs[0] + ff_layer)\n",
        "    return ff_layer\n",
        "\n",
        "\n",
        "  def get_config(self):\n",
        "    config = super().get_config().copy()\n",
        "    config.update({'d_k': self.d_k,\n",
        "                 'd_v': self.d_v,\n",
        "                 'n_heads': self.n_heads,\n",
        "                 'ff_dim': self.ff_dim,\n",
        "                 'attn_heads': self.attn_heads,\n",
        "                 'dropout_rate': self.dropout_rate})\n",
        "    return config\n"
      ],
      "execution_count": 11,
      "outputs": []
    },
    {
      "cell_type": "code",
      "metadata": {
        "colab": {
          "base_uri": "https://localhost:8080/"
        },
        "id": "QCjIheL7keI1",
        "outputId": "84074cee-ba07-4637-e50f-dfd211694830"
      },
      "source": [
        " # Hyperparameters\n",
        " seq_len = 128 \n",
        " batch_size = 32  \n",
        " d_k = 256 \n",
        " d_v = 256 \n",
        " n_heads = 12\n",
        " ff_dim = 256 \n",
        "\n",
        "\n",
        "def create_model():\n",
        "  '''Initialize time and transformer layers'''\n",
        "  time_embedding = Time2Vector(seq_len)\n",
        "  attn_layer1 = TransformerEncoder(d_k, d_v, n_heads, ff_dim)\n",
        "  attn_layer2 = TransformerEncoder(d_k, d_v, n_heads, ff_dim)\n",
        "  attn_layer3 = TransformerEncoder(d_k, d_v, n_heads, ff_dim)\n",
        "\n",
        "  '''Construct model'''\n",
        "  in_seq = Input(shape=(seq_len, 5))\n",
        "  x = time_embedding(in_seq)\n",
        "  x = Concatenate(axis=-1)([in_seq, x])\n",
        "  x = attn_layer1((x, x, x))\n",
        "  x = attn_layer2((x, x, x))\n",
        "  x = attn_layer3((x, x, x))\n",
        "  x = GlobalAveragePooling1D(data_format='channels_first')(x)\n",
        "  x = Dropout(0.1)(x)\n",
        "  x = Dense(64, activation='relu')(x)\n",
        "  x = Dropout(0.1)(x)\n",
        "  out = Dense(1, activation='linear')(x)\n",
        "\n",
        "  model = Model(inputs=in_seq, outputs=out)\n",
        "  model.compile(loss='mse', optimizer='adam', metrics=['mae', 'mape'])\n",
        "  return model\n",
        "\n",
        "\n",
        "model = create_model()\n",
        "model.summary()\n",
        "\n",
        "callback = tf.keras.callbacks.ModelCheckpoint('Transformer+TimeEmbedding.hdf5', \n",
        "                                              monitor='val_loss', \n",
        "                                              save_best_only=True, verbose=1)\n",
        "\n",
        "history = model.fit(X_train, Y_train, \n",
        "                    batch_size=batch_size, \n",
        "                    epochs=35, \n",
        "                    callbacks=[callback],\n",
        "                    validation_data=(X_val, Y_val))  \n",
        "\n",
        "# model = tf.keras.models.load_model('/content/Transformer+TimeEmbedding.hdf5',\n",
        "#                                    custom_objects={'Time2Vector': Time2Vector, \n",
        "#                                                    'SingleAttention': SingleAttention,\n",
        "#                                                    'MultiAttention': MultiAttention,\n",
        "#                                                    'TransformerEncoder': TransformerEncoder})\n"
      ],
      "execution_count": null,
      "outputs": [
        {
          "output_type": "stream",
          "text": [
            "Model: \"model\"\n",
            "__________________________________________________________________________________________________\n",
            "Layer (type)                    Output Shape         Param #     Connected to                     \n",
            "==================================================================================================\n",
            "input_1 (InputLayer)            [(None, 128, 5)]     0                                            \n",
            "__________________________________________________________________________________________________\n",
            "time2_vector (Time2Vector)      (None, 128, 2)       512         input_1[0][0]                    \n",
            "__________________________________________________________________________________________________\n",
            "concatenate (Concatenate)       (None, 128, 7)       0           input_1[0][0]                    \n",
            "                                                                 time2_vector[0][0]               \n",
            "__________________________________________________________________________________________________\n",
            "transformer_encoder (Transforme (None, 128, 7)       99114       concatenate[0][0]                \n",
            "                                                                 concatenate[0][0]                \n",
            "                                                                 concatenate[0][0]                \n",
            "__________________________________________________________________________________________________\n",
            "transformer_encoder_1 (Transfor (None, 128, 7)       99114       transformer_encoder[0][0]        \n",
            "                                                                 transformer_encoder[0][0]        \n",
            "                                                                 transformer_encoder[0][0]        \n",
            "__________________________________________________________________________________________________\n",
            "transformer_encoder_2 (Transfor (None, 128, 7)       99114       transformer_encoder_1[0][0]      \n",
            "                                                                 transformer_encoder_1[0][0]      \n",
            "                                                                 transformer_encoder_1[0][0]      \n",
            "__________________________________________________________________________________________________\n",
            "global_average_pooling1d (Globa (None, 128)          0           transformer_encoder_2[0][0]      \n",
            "__________________________________________________________________________________________________\n",
            "dropout (Dropout)               (None, 128)          0           global_average_pooling1d[0][0]   \n",
            "__________________________________________________________________________________________________\n",
            "dense (Dense)                   (None, 64)           8256        dropout[0][0]                    \n",
            "__________________________________________________________________________________________________\n",
            "dropout_1 (Dropout)             (None, 64)           0           dense[0][0]                      \n",
            "__________________________________________________________________________________________________\n",
            "dense_1 (Dense)                 (None, 1)            65          dropout_1[0][0]                  \n",
            "==================================================================================================\n",
            "Total params: 306,175\n",
            "Trainable params: 306,175\n",
            "Non-trainable params: 0\n",
            "__________________________________________________________________________________________________\n",
            "Epoch 1/35\n",
            "40/40 [==============================] - 47s 547ms/step - loss: 0.2317 - mae: 0.4377 - mape: 72.4881 - val_loss: 0.0050 - val_mae: 0.0527 - val_mape: 8.7237\n",
            "\n",
            "Epoch 00001: val_loss improved from inf to 0.00497, saving model to Transformer+TimeEmbedding.hdf5\n",
            "Epoch 2/35\n",
            "40/40 [==============================] - 18s 442ms/step - loss: 0.0057 - mae: 0.0568 - mape: 9.6953 - val_loss: 0.0041 - val_mae: 0.0430 - val_mape: 7.3345\n",
            "\n",
            "Epoch 00002: val_loss improved from 0.00497 to 0.00406, saving model to Transformer+TimeEmbedding.hdf5\n",
            "Epoch 3/35\n",
            "40/40 [==============================] - 17s 431ms/step - loss: 0.0057 - mae: 0.0554 - mape: 9.3577 - val_loss: 0.0040 - val_mae: 0.0424 - val_mape: 7.4193\n",
            "\n",
            "Epoch 00003: val_loss improved from 0.00406 to 0.00401, saving model to Transformer+TimeEmbedding.hdf5\n",
            "Epoch 4/35\n",
            "40/40 [==============================] - 18s 441ms/step - loss: 0.0064 - mae: 0.0605 - mape: 10.3284 - val_loss: 0.0040 - val_mae: 0.0421 - val_mape: 7.2514\n",
            "\n",
            "Epoch 00004: val_loss improved from 0.00401 to 0.00400, saving model to Transformer+TimeEmbedding.hdf5\n",
            "Epoch 5/35\n",
            "40/40 [==============================] - 18s 448ms/step - loss: 0.0058 - mae: 0.0572 - mape: 9.9161 - val_loss: 0.0040 - val_mae: 0.0419 - val_mape: 7.2967\n",
            "\n",
            "Epoch 00005: val_loss improved from 0.00400 to 0.00398, saving model to Transformer+TimeEmbedding.hdf5\n",
            "Epoch 6/35\n",
            "40/40 [==============================] - 18s 450ms/step - loss: 0.0064 - mae: 0.0593 - mape: 10.1200 - val_loss: 0.0041 - val_mae: 0.0431 - val_mape: 7.3553\n",
            "\n",
            "Epoch 00006: val_loss did not improve from 0.00398\n",
            "Epoch 7/35\n",
            "40/40 [==============================] - 18s 448ms/step - loss: 0.0067 - mae: 0.0599 - mape: 10.1139 - val_loss: 0.0040 - val_mae: 0.0426 - val_mape: 7.4699\n",
            "\n",
            "Epoch 00007: val_loss did not improve from 0.00398\n",
            "Epoch 8/35\n",
            "40/40 [==============================] - 17s 420ms/step - loss: 0.0052 - mae: 0.0530 - mape: 9.0644 - val_loss: 0.0040 - val_mae: 0.0419 - val_mape: 7.2510\n",
            "\n",
            "Epoch 00008: val_loss improved from 0.00398 to 0.00398, saving model to Transformer+TimeEmbedding.hdf5\n",
            "Epoch 9/35\n",
            "40/40 [==============================] - 17s 437ms/step - loss: 0.0056 - mae: 0.0550 - mape: 9.3180 - val_loss: 0.0040 - val_mae: 0.0423 - val_mape: 7.3907\n",
            "\n",
            "Epoch 00009: val_loss did not improve from 0.00398\n",
            "Epoch 10/35\n",
            "40/40 [==============================] - 17s 437ms/step - loss: 0.0055 - mae: 0.0541 - mape: 9.5599 - val_loss: 0.0040 - val_mae: 0.0419 - val_mape: 7.2931\n",
            "\n",
            "Epoch 00010: val_loss did not improve from 0.00398\n",
            "Epoch 11/35\n",
            "40/40 [==============================] - 18s 444ms/step - loss: 0.0057 - mae: 0.0557 - mape: 9.5980 - val_loss: 0.0041 - val_mae: 0.0436 - val_mape: 7.4145\n",
            "\n",
            "Epoch 00011: val_loss did not improve from 0.00398\n",
            "Epoch 12/35\n",
            "40/40 [==============================] - 17s 427ms/step - loss: 0.0055 - mae: 0.0533 - mape: 9.0558 - val_loss: 0.0040 - val_mae: 0.0421 - val_mape: 7.2481\n",
            "\n",
            "Epoch 00012: val_loss did not improve from 0.00398\n",
            "Epoch 13/35\n",
            "40/40 [==============================] - 17s 420ms/step - loss: 0.0055 - mae: 0.0542 - mape: 9.4058 - val_loss: 0.0045 - val_mae: 0.0473 - val_mape: 8.4292\n",
            "\n",
            "Epoch 00013: val_loss did not improve from 0.00398\n",
            "Epoch 14/35\n",
            "40/40 [==============================] - 17s 433ms/step - loss: 0.0061 - mae: 0.0578 - mape: 10.1206 - val_loss: 0.0041 - val_mae: 0.0429 - val_mape: 7.3274\n",
            "\n",
            "Epoch 00014: val_loss did not improve from 0.00398\n",
            "Epoch 15/35\n",
            "40/40 [==============================] - 16s 413ms/step - loss: 0.0057 - mae: 0.0549 - mape: 9.3308 - val_loss: 0.0043 - val_mae: 0.0457 - val_mape: 8.1150\n",
            "\n",
            "Epoch 00015: val_loss did not improve from 0.00398\n",
            "Epoch 16/35\n",
            "40/40 [==============================] - 18s 442ms/step - loss: 0.0064 - mae: 0.0578 - mape: 10.0542 - val_loss: 0.0045 - val_mae: 0.0481 - val_mape: 8.0332\n",
            "\n",
            "Epoch 00016: val_loss did not improve from 0.00398\n",
            "Epoch 17/35\n",
            "40/40 [==============================] - 17s 430ms/step - loss: 0.0062 - mae: 0.0586 - mape: 9.8466 - val_loss: 0.0052 - val_mae: 0.0542 - val_mape: 9.7095\n",
            "\n",
            "Epoch 00017: val_loss did not improve from 0.00398\n",
            "Epoch 18/35\n",
            "40/40 [==============================] - 17s 431ms/step - loss: 0.0063 - mae: 0.0604 - mape: 10.3536 - val_loss: 0.0041 - val_mae: 0.0428 - val_mape: 7.5267\n",
            "\n",
            "Epoch 00018: val_loss did not improve from 0.00398\n",
            "Epoch 19/35\n",
            "40/40 [==============================] - 17s 435ms/step - loss: 0.0054 - mae: 0.0540 - mape: 9.3028 - val_loss: 0.0043 - val_mae: 0.0460 - val_mape: 8.1808\n",
            "\n",
            "Epoch 00019: val_loss did not improve from 0.00398\n",
            "Epoch 20/35\n",
            "35/40 [=========================>....] - ETA: 1s - loss: 0.0053 - mae: 0.0513 - mape: 8.8195"
          ],
          "name": "stdout"
        }
      ]
    },
    {
      "cell_type": "code",
      "metadata": {
        "id": "kNeP99meoo9B"
      },
      "source": [
        ""
      ],
      "execution_count": null,
      "outputs": []
    },
    {
      "cell_type": "code",
      "metadata": {
        "id": "w6JFN248pPYF"
      },
      "source": [
        ""
      ],
      "execution_count": null,
      "outputs": []
    }
  ]
}